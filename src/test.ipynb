{
 "cells": [
  {
   "cell_type": "code",
   "execution_count": 1,
   "metadata": {},
   "outputs": [
    {
     "name": "stderr",
     "output_type": "stream",
     "text": [
      "e:\\anaconda3\\envs\\dl-env\\lib\\site-packages\\tqdm\\auto.py:21: TqdmWarning: IProgress not found. Please update jupyter and ipywidgets. See https://ipywidgets.readthedocs.io/en/stable/user_install.html\n",
      "  from .autonotebook import tqdm as notebook_tqdm\n"
     ]
    }
   ],
   "source": [
    "from bert_model.bert import *\n",
    "from bert_model.bert_utils import *\n",
    "from module_dataset import *\n",
    "from transformers import RobertaConfig, AutoTokenizer\n",
    "import torch"
   ]
  },
  {
   "cell_type": "code",
   "execution_count": 2,
   "metadata": {},
   "outputs": [
    {
     "name": "stderr",
     "output_type": "stream",
     "text": [
      "Some weights of the model checkpoint at vinai/phobert-base-v2 were not used when initializing RobertaModel: ['lm_head.layer_norm.bias', 'lm_head.layer_norm.weight', 'lm_head.dense.weight', 'lm_head.bias', 'lm_head.dense.bias']\n",
      "- This IS expected if you are initializing RobertaModel from the checkpoint of a model trained on another task or with another architecture (e.g. initializing a BertForSequenceClassification model from a BertForPreTraining model).\n",
      "- This IS NOT expected if you are initializing RobertaModel from the checkpoint of a model that you expect to be exactly identical (initializing a BertForSequenceClassification model from a BertForSequenceClassification model).\n"
     ]
    }
   ],
   "source": [
    "args = BertArgs()\n",
    "config = RobertaConfig.from_pretrained(args.R)\n",
    "\n",
    "config = config.to_dict()\n",
    "config.update({\"device\": args.device})\n",
    "config.update({\"use_pooler\": args.use_pooler})\n",
    "config.update({\"class_weights\": args.class_weights})\n",
    "config.update({\"output_hidden_states\": args.output_hidden_states})\n",
    "config = RobertaConfig.from_dict(config)\n",
    "\n",
    "tokenizer = AutoTokenizer.from_pretrained('E:\\\\OneDrive - Hanoi University of Science and Technology\\\\Co so nganh\\\\Engineering Practicum - NLP Lab\\\\Hai-QAZalo\\\\src\\\\module_train\\\\ouput\\\\last_checkpoint')\n",
    "model = BertQA(config=config)\n",
    "model = model.to(args.device)"
   ]
  },
  {
   "cell_type": "code",
   "execution_count": 3,
   "metadata": {},
   "outputs": [
    {
     "data": {
      "text/plain": [
       "_IncompatibleKeys(missing_keys=['bert.embeddings.position_ids'], unexpected_keys=[])"
      ]
     },
     "execution_count": 3,
     "metadata": {},
     "output_type": "execute_result"
    }
   ],
   "source": [
    "torch_model_checkpoint = torch.load('E:\\\\OneDrive - Hanoi University of Science and Technology\\\\Co so nganh\\\\Engineering Practicum - NLP Lab\\\\Hai-QAZalo\\\\src\\\\module_train\\\\ouput\\\\last_checkpoint\\\\torch_model_checkpoint.pt')\n",
    "model.load_state_dict(torch_model_checkpoint['model_state_dict'], strict=False)"
   ]
  },
  {
   "cell_type": "code",
   "execution_count": 10,
   "metadata": {},
   "outputs": [
    {
     "data": {
      "text/plain": [
       "0.896"
      ]
     },
     "execution_count": 10,
     "metadata": {},
     "output_type": "execute_result"
    }
   ],
   "source": [
    "torch_model_checkpoint['acc']"
   ]
  }
 ],
 "metadata": {
  "kernelspec": {
   "display_name": "dl-env",
   "language": "python",
   "name": "python3"
  },
  "language_info": {
   "codemirror_mode": {
    "name": "ipython",
    "version": 3
   },
   "file_extension": ".py",
   "mimetype": "text/x-python",
   "name": "python",
   "nbconvert_exporter": "python",
   "pygments_lexer": "ipython3",
   "version": "3.9.0"
  },
  "orig_nbformat": 4
 },
 "nbformat": 4,
 "nbformat_minor": 2
}
